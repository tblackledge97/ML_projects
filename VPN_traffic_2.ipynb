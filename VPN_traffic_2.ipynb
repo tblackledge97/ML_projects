{
 "cells": [
  {
   "attachments": {},
   "cell_type": "markdown",
   "id": "c80a4b3b-c32e-450a-b312-37d0a208ed34",
   "metadata": {
    "editable": true,
    "slideshow": {
     "slide_type": ""
    },
    "tags": []
   },
   "source": [
    "Using Machine Learning to distinguish the type of traffic, given the traffic will either use a VPN or not.\n",
    "\n",
    "Each flow is labelled according to the type of traffic.\n",
    "\n",
    "| Traffic | Content |\n",
    "|---------|---------|\n",
    "| Web Browsing | Firefox and Chrome |\n",
    "| Chat | ICQ, AIM, Skype, Facebook and Hangouts | \n",
    "| Streaming | Vimeo and Youtube | \n",
    "| Email | SMPTS, POP3S and IMAPS | \n",
    "| VoIP |Facebook, Skype and Hangouts voice calls (1h duration) | \n",
    "| P2P | uTorrent and Transmission (Bittorrent) |\n",
    "| FT (File Transfer) | Skype, FTPS and SFTP using Filezilla and an external service | \n",
    "\n"
   ]
  },
  {
   "cell_type": "markdown",
   "id": "97e1b941",
   "metadata": {
    "id": "32-3rsFB7ci7"
   },
   "source": [
    "## Setup - Provided by the Open university"
   ]
  },
  {
   "cell_type": "markdown",
   "id": "a7248a1b",
   "metadata": {
    "id": "32-3rsFB7ci7"
   },
   "source": [
    "This imports the required libraries and loads the data into training, validation, and testing datasets."
   ]
  },
  {
   "cell_type": "code",
   "execution_count": 1,
   "id": "1963f0a0",
   "metadata": {
    "editable": true,
    "id": "hKTWeKcM7ci7",
    "slideshow": {
     "slide_type": ""
    },
    "tags": []
   },
   "outputs": [],
   "source": [
    "import tensorflow as tf\n",
    "from tensorflow.keras import layers, optimizers, metrics, Sequential, utils\n",
    "\n",
    "import os\n",
    "import json\n",
    "\n",
    "import numpy as np\n",
    "import matplotlib.pyplot as plt\n",
    "%matplotlib inline\n",
    "\n",
    "from IPython.display import HTML, display"
   ]
  },
  {
   "cell_type": "markdown",
   "id": "55f8260b-049e-4618-be10-4fd9f7c079ef",
   "metadata": {
    "editable": true,
    "slideshow": {
     "slide_type": ""
    },
    "tags": []
   },
   "source": [
    "## Loading and preparing the dataset - Provided by the Open university"
   ]
  },
  {
   "cell_type": "markdown",
   "id": "30577e2c-fdfc-4410-97f3-8b3372e75e78",
   "metadata": {
    "editable": true,
    "slideshow": {
     "slide_type": ""
    },
    "tags": []
   },
   "source": [
    "This section of the notebook loads the dataset and makes it available for training."
   ]
  },
  {
   "cell_type": "markdown",
   "id": "35301b3c-3387-4130-bfcd-43dbd50aa1c8",
   "metadata": {
    "editable": true,
    "slideshow": {
     "slide_type": ""
    },
    "tags": []
   },
   "source": [
    "First, we define some constants we will use later and define some metrics to use for model evaluation."
   ]
  },
  {
   "cell_type": "code",
   "execution_count": 2,
   "id": "5de1670e",
   "metadata": {
    "editable": true,
    "slideshow": {
     "slide_type": ""
    },
    "tags": []
   },
   "outputs": [],
   "source": [
    "BATCH_SIZE = 64"
   ]
  },
  {
   "cell_type": "code",
   "execution_count": 3,
   "id": "f651e313-d3f3-4d16-9a02-337a49629a3e",
   "metadata": {
    "editable": true,
    "slideshow": {
     "slide_type": ""
    },
    "tags": []
   },
   "outputs": [
    {
     "data": {
      "text/plain": [
       "{0: 'BROWSING',\n",
       " 1: 'CHAT',\n",
       " 2: 'STREAMING',\n",
       " 3: 'MAIL',\n",
       " 4: 'VOIP',\n",
       " 5: 'P2P',\n",
       " 6: 'FT'}"
      ]
     },
     "execution_count": 3,
     "metadata": {},
     "output_type": "execute_result"
    }
   ],
   "source": [
    "class_names = {i: n.strip() for i, n in enumerate(open('/datasets/cybersecurity/vpn-nonvpn/class_names.txt'))}\n",
    "class_names"
   ]
  },
  {
   "cell_type": "code",
   "execution_count": 4,
   "id": "5275fd97-72c6-461e-a8d7-a6bd3bb88528",
   "metadata": {
    "editable": true,
    "slideshow": {
     "slide_type": ""
    },
    "tags": []
   },
   "outputs": [
    {
     "data": {
      "text/plain": [
       "array(['BROWSING', 'CHAT', 'STREAMING', 'MAIL', 'VOIP', 'P2P', 'FT'],\n",
       "      dtype='<U9')"
      ]
     },
     "execution_count": 4,
     "metadata": {},
     "output_type": "execute_result"
    }
   ],
   "source": [
    "class_names_array = np.array([class_names[i] for i in sorted(class_names)])\n",
    "class_names_array"
   ]
  },
  {
   "cell_type": "code",
   "execution_count": 5,
   "id": "84803424-9c33-4346-ac3a-3851e708506d",
   "metadata": {
    "editable": true,
    "slideshow": {
     "slide_type": ""
    },
    "tags": []
   },
   "outputs": [],
   "source": [
    "def pretty_cm(cm):\n",
    "    result_table  = '<h3>Confusion matrix</h3>\\n'\n",
    "    result_table += '<table border=1>\\n'\n",
    "    result_table += '<tr><td>&nbsp;</td><td>&nbsp;</td><th colspan=10}>Predicted labels</th></tr>\\n'\n",
    "    result_table += '<tr><td>&nbsp;</td><td>&nbsp;</td>'\n",
    "\n",
    "    for cn in class_names.values():\n",
    "        result_table += f'<td><strong>{cn}</strong></td>'\n",
    "    result_table += '</tr>\\n'\n",
    "\n",
    "    result_table += '<tr>\\n'\n",
    "    result_table += '<th rowspan=11>Actual labels</th>\\n'\n",
    "\n",
    "    for ai, an in class_names.items(): # enumerate(class_names):\n",
    "        result_table += '<tr>\\n'\n",
    "        result_table += f'  <td><strong>{an}</strong></td>\\n'\n",
    "        for pi, pn in class_names.items(): #enumerate(class_names):\n",
    "            result_table += f'  <td>{cm[ai, pi]}</td>\\n'\n",
    "        result_table += '</tr>\\n'\n",
    "    result_table += \"</table>\"\n",
    "    # print(result_table)\n",
    "    display(HTML(result_table))"
   ]
  },
  {
   "cell_type": "code",
   "execution_count": 6,
   "id": "4d883fc9-c32c-4ea3-a0bd-1ac8d578a6cb",
   "metadata": {
    "editable": true,
    "slideshow": {
     "slide_type": ""
    },
    "tags": []
   },
   "outputs": [],
   "source": [
    "def multi_class_precision(cmatrix):\n",
    "    s = cmatrix.shape[0]\n",
    "    numerator = tf.reduce_sum(tf.linalg.diag(tf.ones(s)) * cmatrix, axis=0)\n",
    "    denominator = tf.cast(tf.reduce_sum(cmatrix, axis=0), tf.float32)\n",
    "    return numerator / denominator"
   ]
  },
  {
   "cell_type": "code",
   "execution_count": 7,
   "id": "5c566330-c319-4ba4-be21-632e1be06a75",
   "metadata": {
    "editable": true,
    "slideshow": {
     "slide_type": ""
    },
    "tags": []
   },
   "outputs": [],
   "source": [
    "def multi_class_recall(cmatrix):\n",
    "    s = cmatrix.shape[0]\n",
    "    numerator = tf.reduce_sum(tf.linalg.diag(tf.ones(s)) * cmatrix, axis=1)\n",
    "    denominator = tf.cast(tf.reduce_sum(cmatrix, axis=1), tf.float32)\n",
    "    return numerator / denominator"
   ]
  },
  {
   "cell_type": "markdown",
   "id": "8d2a10c0-da14-4332-9dd5-67fe7f746983",
   "metadata": {
    "editable": true,
    "slideshow": {
     "slide_type": ""
    },
    "tags": []
   },
   "source": [
    "Where to find the data."
   ]
  },
  {
   "cell_type": "code",
   "execution_count": 8,
   "id": "ea237b56-d3f9-4506-9584-393346324449",
   "metadata": {
    "editable": true,
    "slideshow": {
     "slide_type": ""
    },
    "tags": []
   },
   "outputs": [],
   "source": [
    "base_dir = '/datasets/cybersecurity/vpn-nonvpn/'"
   ]
  },
  {
   "cell_type": "code",
   "execution_count": 9,
   "id": "860cbc1a-21e9-4c74-9f17-a0eb9af8e5e1",
   "metadata": {
    "editable": true,
    "slideshow": {
     "slide_type": ""
    },
    "tags": []
   },
   "outputs": [
    {
     "data": {
      "text/plain": [
       "<_ShuffleDataset element_spec=(TensorSpec(shape=(None, 23), dtype=tf.float32, name=None), TensorSpec(shape=(None, 7), dtype=tf.int64, name=None))>"
      ]
     },
     "execution_count": 9,
     "metadata": {},
     "output_type": "execute_result"
    }
   ],
   "source": [
    "train_vpn_data = tf.data.Dataset.load(os.path.join(base_dir, 'scenario_a2_15s_VPN_train'))\n",
    "train_vpn_data = train_vpn_data.cache()\n",
    "train_vpn_data = train_vpn_data.batch(BATCH_SIZE, num_parallel_calls=tf.data.AUTOTUNE)\n",
    "train_vpn_data = train_vpn_data.shuffle(1000)\n",
    "train_vpn_data"
   ]
  },
  {
   "cell_type": "code",
   "execution_count": 10,
   "id": "5b328ff7-1999-41c2-81b6-5534b750fbb5",
   "metadata": {
    "editable": true,
    "slideshow": {
     "slide_type": ""
    },
    "tags": []
   },
   "outputs": [
    {
     "data": {
      "text/plain": [
       "<_ParallelBatchDataset element_spec=(TensorSpec(shape=(None, 23), dtype=tf.float32, name=None), TensorSpec(shape=(None, 7), dtype=tf.int64, name=None))>"
      ]
     },
     "execution_count": 10,
     "metadata": {},
     "output_type": "execute_result"
    }
   ],
   "source": [
    "validation_vpn_data = tf.data.Dataset.load(os.path.join(base_dir, 'scenario_a2_15s_VPN_validation'))\n",
    "validation_vpn_data = validation_vpn_data.cache()\n",
    "validation_vpn_data = validation_vpn_data.batch(BATCH_SIZE, num_parallel_calls=tf.data.AUTOTUNE)\n",
    "validation_vpn_data"
   ]
  },
  {
   "cell_type": "code",
   "execution_count": 11,
   "id": "a46fc373-d9f2-485c-b1f3-4f6cc3dfefe3",
   "metadata": {
    "editable": true,
    "slideshow": {
     "slide_type": ""
    },
    "tags": []
   },
   "outputs": [
    {
     "data": {
      "text/plain": [
       "<_ParallelBatchDataset element_spec=(TensorSpec(shape=(None, 23), dtype=tf.float32, name=None), TensorSpec(shape=(None, 7), dtype=tf.int64, name=None))>"
      ]
     },
     "execution_count": 11,
     "metadata": {},
     "output_type": "execute_result"
    }
   ],
   "source": [
    "test_vpn_data = tf.data.Dataset.load(os.path.join(base_dir, 'scenario_a2_15s_VPN_test'))\n",
    "test_vpn_data = test_vpn_data.cache()\n",
    "test_vpn_data = test_vpn_data.batch(BATCH_SIZE, num_parallel_calls=tf.data.AUTOTUNE)\n",
    "test_vpn_data"
   ]
  },
  {
   "cell_type": "code",
   "execution_count": 12,
   "id": "6b0d477d-de03-492b-8b7b-45619629fe4d",
   "metadata": {
    "editable": true,
    "slideshow": {
     "slide_type": ""
    },
    "tags": []
   },
   "outputs": [
    {
     "data": {
      "text/plain": [
       "<_ShuffleDataset element_spec=(TensorSpec(shape=(None, 23), dtype=tf.float32, name=None), TensorSpec(shape=(None, 7), dtype=tf.int64, name=None))>"
      ]
     },
     "execution_count": 12,
     "metadata": {},
     "output_type": "execute_result"
    }
   ],
   "source": [
    "train_no_vpn_data = tf.data.Dataset.load(os.path.join(base_dir, 'scenario_a2_15s_NO-VPN_train'))\n",
    "train_no_vpn_data = train_no_vpn_data.cache()\n",
    "train_no_vpn_data = train_no_vpn_data.batch(BATCH_SIZE, num_parallel_calls=tf.data.AUTOTUNE)\n",
    "train_no_vpn_data = train_no_vpn_data.shuffle(1000)\n",
    "train_no_vpn_data"
   ]
  },
  {
   "cell_type": "code",
   "execution_count": 13,
   "id": "f9710e0b",
   "metadata": {
    "editable": true,
    "slideshow": {
     "slide_type": ""
    },
    "tags": []
   },
   "outputs": [
    {
     "data": {
      "text/plain": [
       "<_ParallelBatchDataset element_spec=(TensorSpec(shape=(None, 23), dtype=tf.float32, name=None), TensorSpec(shape=(None, 7), dtype=tf.int64, name=None))>"
      ]
     },
     "execution_count": 13,
     "metadata": {},
     "output_type": "execute_result"
    }
   ],
   "source": [
    "validation_no_vpn_data = tf.data.Dataset.load(os.path.join(base_dir, 'scenario_a2_15s_NO-VPN_validation'))\n",
    "validation_no_vpn_data = validation_no_vpn_data.cache()\n",
    "validation_no_vpn_data = validation_no_vpn_data.batch(BATCH_SIZE, num_parallel_calls=tf.data.AUTOTUNE)\n",
    "validation_no_vpn_data"
   ]
  },
  {
   "cell_type": "code",
   "execution_count": 14,
   "id": "07aa2950",
   "metadata": {
    "editable": true,
    "lines_to_next_cell": 2,
    "slideshow": {
     "slide_type": ""
    },
    "tags": []
   },
   "outputs": [
    {
     "data": {
      "text/plain": [
       "<_ParallelBatchDataset element_spec=(TensorSpec(shape=(None, 23), dtype=tf.float32, name=None), TensorSpec(shape=(None, 7), dtype=tf.int64, name=None))>"
      ]
     },
     "execution_count": 14,
     "metadata": {},
     "output_type": "execute_result"
    }
   ],
   "source": [
    "test_no_vpn_data = tf.data.Dataset.load(os.path.join(base_dir, 'scenario_a2_15s_NO-VPN_test'))\n",
    "test_no_vpn_data = test_no_vpn_data.cache()\n",
    "test_no_vpn_data = test_no_vpn_data.batch(BATCH_SIZE, num_parallel_calls=tf.data.AUTOTUNE)\n",
    "test_no_vpn_data"
   ]
  },
  {
   "cell_type": "code",
   "execution_count": 15,
   "id": "a54e8707",
   "metadata": {
    "editable": true,
    "slideshow": {
     "slide_type": ""
    },
    "tags": []
   },
   "outputs": [
    {
     "data": {
      "text/plain": [
       "((23,), 7)"
      ]
     },
     "execution_count": 15,
     "metadata": {},
     "output_type": "execute_result"
    }
   ],
   "source": [
    "input_shape = (train_vpn_data.element_spec[0].shape[1],)\n",
    "num_classes = train_vpn_data.element_spec[1].shape[1]\n",
    "input_shape, num_classes"
   ]
  },
  {
   "cell_type": "markdown",
   "id": "6c7db9a5",
   "metadata": {
    "editable": true,
    "slideshow": {
     "slide_type": ""
    },
    "tags": []
   },
   "source": [
    "## Validation and test labels - Provided by the Open university"
   ]
  },
  {
   "cell_type": "markdown",
   "id": "de071a35",
   "metadata": {
    "editable": true,
    "slideshow": {
     "slide_type": ""
    },
    "tags": []
   },
   "source": [
    "Use these for generating confusion matrices."
   ]
  },
  {
   "cell_type": "code",
   "execution_count": 16,
   "id": "26fa8514",
   "metadata": {
    "editable": true,
    "slideshow": {
     "slide_type": ""
    },
    "tags": []
   },
   "outputs": [
    {
     "data": {
      "text/plain": [
       "(979,)"
      ]
     },
     "execution_count": 16,
     "metadata": {},
     "output_type": "execute_result"
    }
   ],
   "source": [
    "validation_vpn_labels = np.array(list(validation_vpn_data.unbatch().map(lambda x, y: y).as_numpy_iterator()))\n",
    "validation_vpn_labels = np.argmax(validation_vpn_labels, axis=1)\n",
    "validation_vpn_labels.shape"
   ]
  },
  {
   "cell_type": "code",
   "execution_count": 17,
   "id": "2c86ea97-d9dd-466b-8cfb-5c4033d6e546",
   "metadata": {
    "editable": true,
    "slideshow": {
     "slide_type": ""
    },
    "tags": []
   },
   "outputs": [
    {
     "data": {
      "text/plain": [
       "(896,)"
      ]
     },
     "execution_count": 17,
     "metadata": {},
     "output_type": "execute_result"
    }
   ],
   "source": [
    "validation_no_vpn_labels = np.array(list(validation_no_vpn_data.unbatch().map(lambda x, y: y).as_numpy_iterator()))\n",
    "validation_no_vpn_labels = np.argmax(validation_no_vpn_labels, axis=1)\n",
    "validation_no_vpn_labels.shape"
   ]
  },
  {
   "cell_type": "code",
   "execution_count": 18,
   "id": "687060e1-0213-4a6a-825d-39b0cf3df51d",
   "metadata": {
    "editable": true,
    "slideshow": {
     "slide_type": ""
    },
    "tags": []
   },
   "outputs": [
    {
     "data": {
      "text/plain": [
       "(1958,)"
      ]
     },
     "execution_count": 18,
     "metadata": {},
     "output_type": "execute_result"
    }
   ],
   "source": [
    "test_vpn_labels = np.array(list(test_vpn_data.unbatch().map(lambda x, y: y).as_numpy_iterator()))\n",
    "test_vpn_labels = np.argmax(test_vpn_labels, axis=1)\n",
    "test_vpn_labels.shape"
   ]
  },
  {
   "cell_type": "code",
   "execution_count": 19,
   "id": "7dbe400f",
   "metadata": {
    "editable": true,
    "slideshow": {
     "slide_type": ""
    },
    "tags": []
   },
   "outputs": [
    {
     "data": {
      "text/plain": [
       "(1792,)"
      ]
     },
     "execution_count": 19,
     "metadata": {},
     "output_type": "execute_result"
    }
   ],
   "source": [
    "test_no_vpn_labels = np.array(list(test_no_vpn_data.unbatch().map(lambda x, y: y).as_numpy_iterator()))\n",
    "test_no_vpn_labels = np.argmax(test_no_vpn_labels, axis=1)\n",
    "test_no_vpn_labels.shape"
   ]
  },
  {
   "cell_type": "markdown",
   "id": "66ff96ac",
   "metadata": {},
   "source": [
    "# Models"
   ]
  },
  {
   "cell_type": "markdown",
   "id": "dad0887f",
   "metadata": {},
   "source": [
    "A first model for traffic that has come through a VPN"
   ]
  },
  {
   "cell_type": "code",
   "execution_count": null,
   "id": "7d8505da",
   "metadata": {
    "editable": true,
    "slideshow": {
     "slide_type": ""
    },
    "tags": [
     "style-solution"
    ]
   },
   "outputs": [
    {
     "data": {
      "text/html": [
       "<pre style=\"white-space:pre;overflow-x:auto;line-height:normal;font-family:Menlo,'DejaVu Sans Mono',consolas,'Courier New',monospace\"><span style=\"font-weight: bold\">Model: \"sequential\"</span>\n",
       "</pre>\n"
      ],
      "text/plain": [
       "\u001b[1mModel: \"sequential\"\u001b[0m\n"
      ]
     },
     "metadata": {},
     "output_type": "display_data"
    },
    {
     "data": {
      "text/html": [
       "<pre style=\"white-space:pre;overflow-x:auto;line-height:normal;font-family:Menlo,'DejaVu Sans Mono',consolas,'Courier New',monospace\">┏━━━━━━━━━━━━━━━━━━━━━━━━━━━━━━━━━┳━━━━━━━━━━━━━━━━━━━━━━━━┳━━━━━━━━━━━━━━━┓\n",
       "┃<span style=\"font-weight: bold\"> Layer (type)                    </span>┃<span style=\"font-weight: bold\"> Output Shape           </span>┃<span style=\"font-weight: bold\">       Param # </span>┃\n",
       "┡━━━━━━━━━━━━━━━━━━━━━━━━━━━━━━━━━╇━━━━━━━━━━━━━━━━━━━━━━━━╇━━━━━━━━━━━━━━━┩\n",
       "│ dense (<span style=\"color: #0087ff; text-decoration-color: #0087ff\">Dense</span>)                   │ (<span style=\"color: #00d7ff; text-decoration-color: #00d7ff\">None</span>, <span style=\"color: #00af00; text-decoration-color: #00af00\">64</span>)             │         <span style=\"color: #00af00; text-decoration-color: #00af00\">1,536</span> │\n",
       "├─────────────────────────────────┼────────────────────────┼───────────────┤\n",
       "│ dense_1 (<span style=\"color: #0087ff; text-decoration-color: #0087ff\">Dense</span>)                 │ (<span style=\"color: #00d7ff; text-decoration-color: #00d7ff\">None</span>, <span style=\"color: #00af00; text-decoration-color: #00af00\">64</span>)             │         <span style=\"color: #00af00; text-decoration-color: #00af00\">4,160</span> │\n",
       "├─────────────────────────────────┼────────────────────────┼───────────────┤\n",
       "│ dense_2 (<span style=\"color: #0087ff; text-decoration-color: #0087ff\">Dense</span>)                 │ (<span style=\"color: #00d7ff; text-decoration-color: #00d7ff\">None</span>, <span style=\"color: #00af00; text-decoration-color: #00af00\">32</span>)             │         <span style=\"color: #00af00; text-decoration-color: #00af00\">2,080</span> │\n",
       "├─────────────────────────────────┼────────────────────────┼───────────────┤\n",
       "│ dense_3 (<span style=\"color: #0087ff; text-decoration-color: #0087ff\">Dense</span>)                 │ (<span style=\"color: #00d7ff; text-decoration-color: #00d7ff\">None</span>, <span style=\"color: #00af00; text-decoration-color: #00af00\">7</span>)              │           <span style=\"color: #00af00; text-decoration-color: #00af00\">231</span> │\n",
       "└─────────────────────────────────┴────────────────────────┴───────────────┘\n",
       "</pre>\n"
      ],
      "text/plain": [
       "┏━━━━━━━━━━━━━━━━━━━━━━━━━━━━━━━━━┳━━━━━━━━━━━━━━━━━━━━━━━━┳━━━━━━━━━━━━━━━┓\n",
       "┃\u001b[1m \u001b[0m\u001b[1mLayer (type)                   \u001b[0m\u001b[1m \u001b[0m┃\u001b[1m \u001b[0m\u001b[1mOutput Shape          \u001b[0m\u001b[1m \u001b[0m┃\u001b[1m \u001b[0m\u001b[1m      Param #\u001b[0m\u001b[1m \u001b[0m┃\n",
       "┡━━━━━━━━━━━━━━━━━━━━━━━━━━━━━━━━━╇━━━━━━━━━━━━━━━━━━━━━━━━╇━━━━━━━━━━━━━━━┩\n",
       "│ dense (\u001b[38;5;33mDense\u001b[0m)                   │ (\u001b[38;5;45mNone\u001b[0m, \u001b[38;5;34m64\u001b[0m)             │         \u001b[38;5;34m1,536\u001b[0m │\n",
       "├─────────────────────────────────┼────────────────────────┼───────────────┤\n",
       "│ dense_1 (\u001b[38;5;33mDense\u001b[0m)                 │ (\u001b[38;5;45mNone\u001b[0m, \u001b[38;5;34m64\u001b[0m)             │         \u001b[38;5;34m4,160\u001b[0m │\n",
       "├─────────────────────────────────┼────────────────────────┼───────────────┤\n",
       "│ dense_2 (\u001b[38;5;33mDense\u001b[0m)                 │ (\u001b[38;5;45mNone\u001b[0m, \u001b[38;5;34m32\u001b[0m)             │         \u001b[38;5;34m2,080\u001b[0m │\n",
       "├─────────────────────────────────┼────────────────────────┼───────────────┤\n",
       "│ dense_3 (\u001b[38;5;33mDense\u001b[0m)                 │ (\u001b[38;5;45mNone\u001b[0m, \u001b[38;5;34m7\u001b[0m)              │           \u001b[38;5;34m231\u001b[0m │\n",
       "└─────────────────────────────────┴────────────────────────┴───────────────┘\n"
      ]
     },
     "metadata": {},
     "output_type": "display_data"
    },
    {
     "data": {
      "text/html": [
       "<pre style=\"white-space:pre;overflow-x:auto;line-height:normal;font-family:Menlo,'DejaVu Sans Mono',consolas,'Courier New',monospace\"><span style=\"font-weight: bold\"> Total params: </span><span style=\"color: #00af00; text-decoration-color: #00af00\">8,007</span> (31.28 KB)\n",
       "</pre>\n"
      ],
      "text/plain": [
       "\u001b[1m Total params: \u001b[0m\u001b[38;5;34m8,007\u001b[0m (31.28 KB)\n"
      ]
     },
     "metadata": {},
     "output_type": "display_data"
    },
    {
     "data": {
      "text/html": [
       "<pre style=\"white-space:pre;overflow-x:auto;line-height:normal;font-family:Menlo,'DejaVu Sans Mono',consolas,'Courier New',monospace\"><span style=\"font-weight: bold\"> Trainable params: </span><span style=\"color: #00af00; text-decoration-color: #00af00\">8,007</span> (31.28 KB)\n",
       "</pre>\n"
      ],
      "text/plain": [
       "\u001b[1m Trainable params: \u001b[0m\u001b[38;5;34m8,007\u001b[0m (31.28 KB)\n"
      ]
     },
     "metadata": {},
     "output_type": "display_data"
    },
    {
     "data": {
      "text/html": [
       "<pre style=\"white-space:pre;overflow-x:auto;line-height:normal;font-family:Menlo,'DejaVu Sans Mono',consolas,'Courier New',monospace\"><span style=\"font-weight: bold\"> Non-trainable params: </span><span style=\"color: #00af00; text-decoration-color: #00af00\">0</span> (0.00 B)\n",
       "</pre>\n"
      ],
      "text/plain": [
       "\u001b[1m Non-trainable params: \u001b[0m\u001b[38;5;34m0\u001b[0m (0.00 B)\n"
      ]
     },
     "metadata": {},
     "output_type": "display_data"
    }
   ],
   "source": [
    "\n",
    "# Create the model\n",
    "model_a = tf.keras.Sequential([\n",
    "    tf.keras.layers.Input(input_shape),\n",
    "    tf.keras.layers.Dense(64, activation='sigmoid'), \n",
    "    tf.keras.layers.Dense(64, activation='sigmoid'),\n",
    "    tf.keras.layers.Dense(32, activation='sigmoid'),\n",
    "    tf.keras.layers.Dense(7, activation='softmax')\n",
    "])\n",
    "\n",
    "# get the summary of the model and check it\n",
    "model_a.summary()"
   ]
  },
  {
   "cell_type": "code",
   "execution_count": 21,
   "id": "4869b2c0-af03-4499-ae3a-85d9899129b6",
   "metadata": {
    "editable": true,
    "slideshow": {
     "slide_type": ""
    },
    "tags": []
   },
   "outputs": [],
   "source": [
    "# Set opt\n",
    "opt = optimizers.RMSprop()\n",
    "model_a.compile(optimizer=opt, \n",
    "              loss='categorical_crossentropy',\n",
    "              metrics=['accuracy'])"
   ]
  },
  {
   "cell_type": "code",
   "execution_count": 22,
   "id": "f170bdf8-e855-47be-88c2-8488f12ea8cd",
   "metadata": {
    "editable": true,
    "slideshow": {
     "slide_type": ""
    },
    "tags": []
   },
   "outputs": [
    {
     "name": "stderr",
     "output_type": "stream",
     "text": [
      "WARNING: All log messages before absl::InitializeLog() is called are written to STDERR\n",
      "I0000 00:00:1731771323.498049    9180 service.cc:145] XLA service 0x7f0e20084090 initialized for platform CUDA (this does not guarantee that XLA will be used). Devices:\n",
      "I0000 00:00:1731771323.498084    9180 service.cc:153]   StreamExecutor device (0): Tesla T4, Compute Capability 7.5\n",
      "I0000 00:00:1731771324.215824    9180 device_compiler.h:188] Compiled cluster using XLA!  This line is logged at most once for the lifetime of the process.\n"
     ]
    }
   ],
   "source": [
    "history = model_a.fit(train_vpn_data,\n",
    "                    validation_data=validation_vpn_data,\n",
    "                    epochs=200,\n",
    "                    verbose=0\n",
    "                   )\n",
    "                    "
   ]
  },
  {
   "cell_type": "code",
   "execution_count": 23,
   "id": "7558a740-c454-40b7-ba87-6298d9d9af1a",
   "metadata": {
    "editable": true,
    "slideshow": {
     "slide_type": ""
    },
    "tags": []
   },
   "outputs": [],
   "source": [
    "# save model and training history and reload them\n",
    "model_a.save('model_a.keras')\n",
    "model_a = tf.keras.models.load_model('model_a.keras')\n",
    "\n",
    "with open('model_a_history.json', 'w') as f:\n",
    "    json.dump(history.history, f)\n",
    "\n",
    "with open('model_a_history.json') as f:\n",
    "    sample4_history = json.load(f)"
   ]
  },
  {
   "cell_type": "code",
   "execution_count": 24,
   "id": "f8563f2e-5142-454e-856c-6f777460a581",
   "metadata": {
    "editable": true,
    "slideshow": {
     "slide_type": ""
    },
    "tags": []
   },
   "outputs": [
    {
     "data": {
      "image/png": "[encoded data removed]",
      "text/plain": [
       "<Figure size 640x480 with 1 Axes>"
      ]
     },
     "metadata": {},
     "output_type": "display_data"
    },
    {
     "data": {
      "image/png": "[encoded data removed]",
      "text/plain": [
       "<Figure size 640x480 with 1 Axes>"
      ]
     },
     "metadata": {},
     "output_type": "display_data"
    }
   ],
   "source": [
    "# Plot the graph of the history\n",
    "# accuracy graph\n",
    "acc = sample4_history['accuracy']\n",
    "val_acc = sample4_history['val_accuracy']\n",
    "loss = sample4_history['loss']\n",
    "val_loss = sample4_history['val_loss']\n",
    "\n",
    "epochs = range(len(acc))\n",
    "\n",
    "plt.plot(epochs, acc, 'ro', label='Training accuarcy')\n",
    "plt.plot(epochs, val_acc, 'b', label='Validation accuarcy')\n",
    "plt.title('Training and validation accuracy')\n",
    "plt.legend()\n",
    "\n",
    "plt.figure()\n",
    "\n",
    "# Loss graph\n",
    "plt.plot(epochs, loss, 'ro', label='Training loss')\n",
    "plt.plot(epochs, val_loss, 'b', label='Validation loss')\n",
    "plt.title('Training and validation loss')\n",
    "plt.legend()\n",
    "\n",
    "plt.show()\n"
   ]
  },
  {
   "cell_type": "markdown",
   "id": "e061d0e6-6662-465d-8bd9-1acdbe8b457d",
   "metadata": {
    "editable": true,
    "slideshow": {
     "slide_type": ""
    },
    "tags": [
     "style-solution"
    ]
   },
   "source": [
    "Comment on graphs\n",
    "> The accuracy increases and the loss decreases over the course of the training.\n",
    "> Even at 200 epochs, the accuracy is still increasing at above 85% and the loss is still decreasing at just below 0.4.\n",
    "> \n",
    "> This suggests the model may benefit from more training to reach an optimal point, and that over-fitting has not occurred. In fact the loss is starting to reach its optimal point.\n",
    ">\n",
    "> The validation data appears to be better than the training data, this could be down to the distribution of the data.\n",
    ">  "
   ]
  },
  {
   "cell_type": "code",
   "execution_count": 26,
   "id": "d60f24c7-3901-4b3b-b4bb-e5ad0a578996",
   "metadata": {
    "editable": true,
    "slideshow": {
     "slide_type": ""
    },
    "tags": []
   },
   "outputs": [
    {
     "name": "stdout",
     "output_type": "stream",
     "text": [
      "\u001b[1m31/31\u001b[0m \u001b[32m━━━━━━━━━━━━━━━━━━━━\u001b[0m\u001b[37m\u001b[0m \u001b[1m0s\u001b[0m 960us/step - accuracy: 0.8320 - loss: 0.4725\n"
     ]
    },
    {
     "data": {
      "text/plain": [
       "{'accuracy': 0.8396322727203369, 'loss': 0.44960716366767883}"
      ]
     },
     "execution_count": 26,
     "metadata": {},
     "output_type": "execute_result"
    }
   ],
   "source": [
    "# Evaluate on the test data\n",
    "model_a.evaluate(test_vpn_data, return_dict=True)"
   ]
  },
  {
   "cell_type": "markdown",
   "id": "3fcb3045-640a-4cbc-a14a-11cd5e3cd6c9",
   "metadata": {
    "editable": true,
    "slideshow": {
     "slide_type": ""
    },
    "tags": [
     "style-solution"
    ]
   },
   "source": [
    "comment on evaluation:\n",
    "> The accuracy is 0.84 showing that the model is doing well. The loss of the model is 0.47."
   ]
  },
  {
   "cell_type": "code",
   "execution_count": 27,
   "id": "dd479143-eb7c-4890-9c27-028b838be8da",
   "metadata": {
    "editable": true,
    "slideshow": {
     "slide_type": ""
    },
    "tags": []
   },
   "outputs": [
    {
     "name": "stdout",
     "output_type": "stream",
     "text": [
      "\u001b[1m31/31\u001b[0m \u001b[32m━━━━━━━━━━━━━━━━━━━━\u001b[0m\u001b[37m\u001b[0m \u001b[1m0s\u001b[0m 5ms/step\n"
     ]
    }
   ],
   "source": [
    "# Generate predictions\n",
    "test_predictions = model_a.predict(test_vpn_data)\n"
   ]
  },
  {
   "cell_type": "code",
   "execution_count": 28,
   "id": "672694de-3fad-40fc-aa14-943b0eee8d46",
   "metadata": {
    "editable": true,
    "slideshow": {
     "slide_type": ""
    },
    "tags": []
   },
   "outputs": [],
   "source": [
    "# Generate predicted and actual labels for confusion matrix\n",
    "predict_labels = np.argmax(test_predictions, axis=1)"
   ]
  },
  {
   "cell_type": "code",
   "execution_count": 29,
   "id": "e490d4da-95ec-4662-93a0-8864459e596f",
   "metadata": {
    "editable": true,
    "slideshow": {
     "slide_type": ""
    },
    "tags": []
   },
   "outputs": [
    {
     "data": {
      "text/html": [
       "<h3>Confusion matrix</h3>\n",
       "<table border=1>\n",
       "<tr><td>&nbsp;</td><td>&nbsp;</td><th colspan=10}>Predicted labels</th></tr>\n",
       "<tr><td>&nbsp;</td><td>&nbsp;</td><td><strong>BROWSING</strong></td><td><strong>CHAT</strong></td><td><strong>STREAMING</strong></td><td><strong>MAIL</strong></td><td><strong>VOIP</strong></td><td><strong>P2P</strong></td><td><strong>FT</strong></td></tr>\n",
       "<tr>\n",
       "<th rowspan=11>Actual labels</th>\n",
       "<tr>\n",
       "  <td><strong>BROWSING</strong></td>\n",
       "  <td>455</td>\n",
       "  <td>17</td>\n",
       "  <td>5</td>\n",
       "  <td>1</td>\n",
       "  <td>0</td>\n",
       "  <td>1</td>\n",
       "  <td>20</td>\n",
       "</tr>\n",
       "<tr>\n",
       "  <td><strong>CHAT</strong></td>\n",
       "  <td>37</td>\n",
       "  <td>121</td>\n",
       "  <td>0</td>\n",
       "  <td>9</td>\n",
       "  <td>1</td>\n",
       "  <td>10</td>\n",
       "  <td>50</td>\n",
       "</tr>\n",
       "<tr>\n",
       "  <td><strong>STREAMING</strong></td>\n",
       "  <td>0</td>\n",
       "  <td>1</td>\n",
       "  <td>86</td>\n",
       "  <td>0</td>\n",
       "  <td>0</td>\n",
       "  <td>4</td>\n",
       "  <td>2</td>\n",
       "</tr>\n",
       "<tr>\n",
       "  <td><strong>MAIL</strong></td>\n",
       "  <td>4</td>\n",
       "  <td>1</td>\n",
       "  <td>0</td>\n",
       "  <td>88</td>\n",
       "  <td>0</td>\n",
       "  <td>0</td>\n",
       "  <td>11</td>\n",
       "</tr>\n",
       "<tr>\n",
       "  <td><strong>VOIP</strong></td>\n",
       "  <td>0</td>\n",
       "  <td>2</td>\n",
       "  <td>0</td>\n",
       "  <td>0</td>\n",
       "  <td>447</td>\n",
       "  <td>5</td>\n",
       "  <td>7</td>\n",
       "</tr>\n",
       "<tr>\n",
       "  <td><strong>P2P</strong></td>\n",
       "  <td>10</td>\n",
       "  <td>5</td>\n",
       "  <td>3</td>\n",
       "  <td>0</td>\n",
       "  <td>0</td>\n",
       "  <td>131</td>\n",
       "  <td>18</td>\n",
       "</tr>\n",
       "<tr>\n",
       "  <td><strong>FT</strong></td>\n",
       "  <td>29</td>\n",
       "  <td>31</td>\n",
       "  <td>0</td>\n",
       "  <td>18</td>\n",
       "  <td>1</td>\n",
       "  <td>11</td>\n",
       "  <td>316</td>\n",
       "</tr>\n",
       "</table>"
      ],
      "text/plain": [
       "<IPython.core.display.HTML object>"
      ]
     },
     "metadata": {},
     "output_type": "display_data"
    }
   ],
   "source": [
    "# Generate confusion matrix\n",
    "cmatrix_a = tf.math.confusion_matrix(test_vpn_labels, predict_labels).numpy()\n",
    "pretty_cm(cmatrix_a)"
   ]
  },
  {
   "cell_type": "markdown",
   "id": "a5124596-547c-419e-a493-b5bce0f27ae3",
   "metadata": {
    "editable": true,
    "slideshow": {
     "slide_type": ""
    },
    "tags": [
     "style-solution"
    ]
   },
   "source": [
    "Comment on confusion matrix:\n",
    "> This confusion matrix shows a high degree of accuracy.\n",
    ">\n",
    "> However there are some areas where the numbers are high where they shouldn't be. It is clear that 'browsing' can is predicted when 'chat' is the actual label 17% of the time. 'FT' is also predicted 23% of the time when the actual label is 'chat'."
   ]
  },
  {
   "cell_type": "markdown",
   "id": "0204389c",
   "metadata": {},
   "source": [
    "A first model for data that has not come through a VPN"
   ]
  },
  {
   "cell_type": "code",
   "execution_count": null,
   "id": "ce43770f",
   "metadata": {
    "editable": true,
    "slideshow": {
     "slide_type": ""
    },
    "tags": [
     "style-solution"
    ]
   },
   "outputs": [],
   "source": [
    "\n",
    "# Create the model\n",
    "model_b = tf.keras.Sequential([\n",
    "    tf.keras.layers.Input(input_shape),\n",
    "    tf.keras.layers.Dense(64, activation='sigmoid'), \n",
    "    tf.keras.layers.Dense(64, activation='sigmoid'),\n",
    "    tf.keras.layers.Dense(32, activation='sigmoid'),\n",
    "    tf.keras.layers.Dense(7, activation='softmax')\n",
    "])"
   ]
  },
  {
   "cell_type": "code",
   "execution_count": 31,
   "id": "db84d709-76aa-451f-8fc3-de68611cda85",
   "metadata": {
    "editable": true,
    "slideshow": {
     "slide_type": ""
    },
    "tags": []
   },
   "outputs": [],
   "source": [
    "# Set the opt\n",
    "opt = optimizers.RMSprop()\n",
    "model_b.compile(optimizer=opt,\n",
    "                loss='categorical_crossentropy',\n",
    "                metrics=['accuracy'])"
   ]
  },
  {
   "cell_type": "code",
   "execution_count": 32,
   "id": "91066a09-fb7a-4034-a1f9-46257d0ec87b",
   "metadata": {
    "editable": true,
    "slideshow": {
     "slide_type": ""
    },
    "tags": []
   },
   "outputs": [],
   "source": [
    "history = model_b.fit(train_no_vpn_data,\n",
    "                      validation_data=validation_no_vpn_data,\n",
    "                      epochs=200,\n",
    "                      verbose=0\n",
    "                     )"
   ]
  },
  {
   "cell_type": "code",
   "execution_count": 33,
   "id": "cd180e91-e96f-4aa2-b1b1-72565ca22640",
   "metadata": {
    "editable": true,
    "slideshow": {
     "slide_type": ""
    },
    "tags": []
   },
   "outputs": [],
   "source": [
    "# Save the model and training history then reload them\n",
    "model_b.save('model_b.keras')\n",
    "model_b = tf.keras.models.load_model('model_b.keras')\n",
    "\n",
    "with open('model_b_history.json', 'w') as f:\n",
    "    json.dump(history.history, f)\n",
    "\n",
    "with open('model_b_history.json') as f:\n",
    "    sample5_history = json.load(f)"
   ]
  },
  {
   "cell_type": "code",
   "execution_count": 34,
   "id": "8dfdb6cd-0788-441d-b764-d2250f7cac30",
   "metadata": {
    "editable": true,
    "slideshow": {
     "slide_type": ""
    },
    "tags": []
   },
   "outputs": [
    {
     "data": {
      "image/png": "[encoded data removed]",
      "text/plain": [
       "<Figure size 640x480 with 1 Axes>"
      ]
     },
     "metadata": {},
     "output_type": "display_data"
    },
    {
     "data": {
      "image/png": "[encoded data removed]",
      "text/plain": [
       "<Figure size 640x480 with 1 Axes>"
      ]
     },
     "metadata": {},
     "output_type": "display_data"
    }
   ],
   "source": [
    "# Plot the graph of the history\n",
    "\n",
    "acc = sample5_history['accuracy']\n",
    "val_acc = sample5_history['val_accuracy']\n",
    "loss = sample5_history['loss']\n",
    "val_loss = sample5_history['val_loss']\n",
    "\n",
    "epochs = range(len(acc))\n",
    "\n",
    "# Accuracy and loss graphs\n",
    "plt.plot(epochs, acc, 'ro', label='Training accuracy')\n",
    "plt.plot(epochs, val_acc, 'b', label='Validation accuracy')\n",
    "plt.title('Taining and validation accuracy')\n",
    "plt.legend()\n",
    "\n",
    "plt.figure()\n",
    "\n",
    "plt.plot(epochs, loss, 'ro', label='Training loss')\n",
    "plt.plot(epochs, val_loss, 'b', label='Validation loss')\n",
    "plt.title('Taining and validation loss')\n",
    "plt.legend()\n",
    "\n",
    "plt.show()"
   ]
  },
  {
   "cell_type": "markdown",
   "id": "7fd81772-fd2a-40a6-bbaa-d40508780b92",
   "metadata": {
    "editable": true,
    "slideshow": {
     "slide_type": ""
    },
    "tags": [
     "style-solution"
    ]
   },
   "source": [
    "Comment on graphs:\n",
    "> The loss graph suggests the model is starting to show very early signs of over-fitting.\n",
    ">\n",
    "> At around 150 epochs the loss, starts to level out. This means the difference between the training loss and the validation loss is increasing, suggesting an optimal point has already been reached.\n",
    ">\n",
    "> The graphs indicate a high level of accuracy, above 90% and the loss is around 0.2."
   ]
  },
  {
   "cell_type": "code",
   "execution_count": 35,
   "id": "85beff34-6b77-4d6b-9e36-0adb9c6b1c91",
   "metadata": {
    "editable": true,
    "slideshow": {
     "slide_type": ""
    },
    "tags": []
   },
   "outputs": [
    {
     "name": "stdout",
     "output_type": "stream",
     "text": [
      "\u001b[1m28/28\u001b[0m \u001b[32m━━━━━━━━━━━━━━━━━━━━\u001b[0m\u001b[37m\u001b[0m \u001b[1m0s\u001b[0m 1ms/step - accuracy: 0.9428 - loss: 0.1979  \n"
     ]
    },
    {
     "data": {
      "text/plain": [
       "{'accuracy': 0.9391741156578064, 'loss': 0.1980825662612915}"
      ]
     },
     "execution_count": 35,
     "metadata": {},
     "output_type": "execute_result"
    }
   ],
   "source": [
    "# Evaluate on the test data set\n",
    "model_b.evaluate(test_no_vpn_data, return_dict=True)"
   ]
  },
  {
   "cell_type": "markdown",
   "id": "e3020d36-7cf5-4039-a1d7-d293989da2e4",
   "metadata": {
    "editable": true,
    "slideshow": {
     "slide_type": ""
    },
    "tags": [
     "style-solution"
    ]
   },
   "source": [
    "Comment on evaluation:\n",
    "> This is more accurate than the previous model as it has 0.94 and the loss is more than half the vpn data at 0.20"
   ]
  },
  {
   "cell_type": "code",
   "execution_count": 36,
   "id": "7a7951a0-d263-4655-90c3-98084941ca29",
   "metadata": {
    "editable": true,
    "slideshow": {
     "slide_type": ""
    },
    "tags": []
   },
   "outputs": [
    {
     "name": "stdout",
     "output_type": "stream",
     "text": [
      "\u001b[1m28/28\u001b[0m \u001b[32m━━━━━━━━━━━━━━━━━━━━\u001b[0m\u001b[37m\u001b[0m \u001b[1m0s\u001b[0m 1ms/step \n"
     ]
    }
   ],
   "source": [
    "# Generate predictions\n",
    "test_predictions_b = model_b.predict(test_no_vpn_data)"
   ]
  },
  {
   "cell_type": "code",
   "execution_count": 37,
   "id": "9ef02c7e-2252-43ac-8f5e-05c76d936d61",
   "metadata": {
    "editable": true,
    "slideshow": {
     "slide_type": ""
    },
    "tags": []
   },
   "outputs": [],
   "source": [
    "# Generate predicted and actual labels for confusion matrix\n",
    "predict_labels_b = np.argmax(test_predictions_b, axis=1)"
   ]
  },
  {
   "cell_type": "code",
   "execution_count": 38,
   "id": "c82342fc-5f5e-4748-bbff-72bf7ec517ef",
   "metadata": {
    "editable": true,
    "slideshow": {
     "slide_type": ""
    },
    "tags": []
   },
   "outputs": [
    {
     "data": {
      "text/html": [
       "<h3>Confusion matrix</h3>\n",
       "<table border=1>\n",
       "<tr><td>&nbsp;</td><td>&nbsp;</td><th colspan=10}>Predicted labels</th></tr>\n",
       "<tr><td>&nbsp;</td><td>&nbsp;</td><td><strong>BROWSING</strong></td><td><strong>CHAT</strong></td><td><strong>STREAMING</strong></td><td><strong>MAIL</strong></td><td><strong>VOIP</strong></td><td><strong>P2P</strong></td><td><strong>FT</strong></td></tr>\n",
       "<tr>\n",
       "<th rowspan=11>Actual labels</th>\n",
       "<tr>\n",
       "  <td><strong>BROWSING</strong></td>\n",
       "  <td>518</td>\n",
       "  <td>10</td>\n",
       "  <td>1</td>\n",
       "  <td>2</td>\n",
       "  <td>0</td>\n",
       "  <td>2</td>\n",
       "  <td>1</td>\n",
       "</tr>\n",
       "<tr>\n",
       "  <td><strong>CHAT</strong></td>\n",
       "  <td>26</td>\n",
       "  <td>145</td>\n",
       "  <td>2</td>\n",
       "  <td>0</td>\n",
       "  <td>0</td>\n",
       "  <td>2</td>\n",
       "  <td>4</td>\n",
       "</tr>\n",
       "<tr>\n",
       "  <td><strong>STREAMING</strong></td>\n",
       "  <td>10</td>\n",
       "  <td>3</td>\n",
       "  <td>76</td>\n",
       "  <td>0</td>\n",
       "  <td>0</td>\n",
       "  <td>0</td>\n",
       "  <td>1</td>\n",
       "</tr>\n",
       "<tr>\n",
       "  <td><strong>MAIL</strong></td>\n",
       "  <td>2</td>\n",
       "  <td>0</td>\n",
       "  <td>0</td>\n",
       "  <td>37</td>\n",
       "  <td>1</td>\n",
       "  <td>0</td>\n",
       "  <td>4</td>\n",
       "</tr>\n",
       "<tr>\n",
       "  <td><strong>VOIP</strong></td>\n",
       "  <td>1</td>\n",
       "  <td>0</td>\n",
       "  <td>0</td>\n",
       "  <td>0</td>\n",
       "  <td>559</td>\n",
       "  <td>0</td>\n",
       "  <td>3</td>\n",
       "</tr>\n",
       "<tr>\n",
       "  <td><strong>P2P</strong></td>\n",
       "  <td>3</td>\n",
       "  <td>0</td>\n",
       "  <td>0</td>\n",
       "  <td>0</td>\n",
       "  <td>0</td>\n",
       "  <td>197</td>\n",
       "  <td>1</td>\n",
       "</tr>\n",
       "<tr>\n",
       "  <td><strong>FT</strong></td>\n",
       "  <td>7</td>\n",
       "  <td>5</td>\n",
       "  <td>5</td>\n",
       "  <td>9</td>\n",
       "  <td>2</td>\n",
       "  <td>2</td>\n",
       "  <td>151</td>\n",
       "</tr>\n",
       "</table>"
      ],
      "text/plain": [
       "<IPython.core.display.HTML object>"
      ]
     },
     "metadata": {},
     "output_type": "display_data"
    }
   ],
   "source": [
    "# Generate confusion matrix\n",
    "cmatrix_b = tf.math.confusion_matrix(test_no_vpn_labels, predict_labels_b).numpy()\n",
    "pretty_cm(cmatrix_b)"
   ]
  },
  {
   "cell_type": "markdown",
   "id": "365550d7-a52d-418e-b0d5-bf0f9640c2b9",
   "metadata": {
    "editable": true,
    "slideshow": {
     "slide_type": ""
    },
    "tags": [
     "style-solution"
    ]
   },
   "source": [
    "Comment on the confusion matrix:\n",
    "> This is more accurate than the previous model.\n",
    ">\n",
    "> 'browsing' is still sometimes incorrectly predicted when it should be 'chat', however this value is now at 15%, which is lower than then 17% in the previous model.\n",
    "> \n",
    "> There are very few errors in the table, which lines up with the 94% evaluation above."
   ]
  },
  {
   "cell_type": "markdown",
   "id": "d4398718",
   "metadata": {
    "editable": true,
    "slideshow": {
     "slide_type": ""
    },
    "tags": [
     "style-activity"
    ]
   },
   "source": [
    "Compare The above results to those presented by Draper-Gil _et al._ (2016)"
   ]
  },
  {
   "cell_type": "markdown",
   "id": "bbce3805-0535-4035-97d2-973fe08d8bef",
   "metadata": {
    "editable": true,
    "slideshow": {
     "slide_type": ""
    },
    "tags": [
     "style-solution"
    ]
   },
   "source": [
    "Comments:\n",
    "\n",
    ">\n",
    "> The model trained on non-VPN traffic more accurate as it has a accuracy of 93% compared with the VPN traffic which has an accuracy of 83%.\n",
    ">\n",
    "> The model trained on non-VPN traffic also has a lower loss, at 0.20 compared with 0.45 on the VPN traffic."
   ]
  },
  {
   "cell_type": "code",
   "execution_count": null,
   "id": "a721ed47-8abd-42f2-88b2-cde27a392d64",
   "metadata": {
    "editable": true,
    "slideshow": {
     "slide_type": ""
    },
    "tags": [
     "style-solution"
    ]
   },
   "outputs": [
    {
     "data": {
      "text/plain": [
       "<tf.Tensor: shape=(7,), dtype=float32, numpy=\n",
       "array([0.85046726, 0.6797753 , 0.9148936 , 0.7586207 , 0.9955457 ,\n",
       "       0.80864197, 0.745283  ], dtype=float32)>"
      ]
     },
     "execution_count": 40,
     "metadata": {},
     "output_type": "execute_result"
    }
   ],
   "source": [
    "# model_a results\n",
    "# generate precision scores\n",
    "multi_class_precision(cmatrix_a)"
   ]
  },
  {
   "cell_type": "code",
   "execution_count": 42,
   "id": "8ab63b27-6799-4e95-93b3-5faca817c8e8",
   "metadata": {
    "editable": true,
    "slideshow": {
     "slide_type": ""
    },
    "tags": []
   },
   "outputs": [
    {
     "data": {
      "image/png": "[encoded data removed]",
      "text/plain": [
       "<Figure size 800x800 with 4 Axes>"
      ]
     },
     "metadata": {},
     "output_type": "display_data"
    }
   ],
   "source": [
    "fig = plt.figure(figsize=(8, 8))\n",
    "ax = fig.subplots(nrows=2, ncols=2, sharex=True, sharey=True)\n",
    "\n",
    "ax[0, 0].plot(class_names_array, multi_class_precision(cmatrix_a).numpy())\n",
    "ax[0, 0].set_title(\"VPN precision\")\n",
    "ax[0, 0].grid(axis='y')\n",
    "\n",
    "# Add plot here\n",
    "ax[0, 1].plot(class_names_array, multi_class_recall(cmatrix_a).numpy())\n",
    "ax[0, 1].set_title(\"VPN recall\")\n",
    "ax[0, 0].grid(axis='y')\n",
    "\n",
    "# Add plot here\n",
    "ax[1, 0].plot(class_names_array, multi_class_precision(cmatrix_b).numpy())\n",
    "ax[1, 0].set_title(\"Non-VPN precision\")\n",
    "ax[0, 0].grid(axis='y')\n",
    "\n",
    "# Add plot here\n",
    "ax[1, 1].plot(class_names_array, multi_class_recall(cmatrix_b).numpy())\n",
    "ax[1, 1].set_title(\"Non-VPN recall\")\n",
    "ax[0, 0].grid(axis='y')\n",
    "\n",
    "ax[1, 0].set_xticks(class_names_array, labels=class_names_array, rotation=45, horizontalalignment='right')\n",
    "ax[1, 1].set_xticks(class_names_array, labels=class_names_array, rotation=45, horizontalalignment='right')\n",
    "ax[1, 1].set_ylim((0.5, 1.0))\n",
    "plt.show()"
   ]
  },
  {
   "cell_type": "markdown",
   "id": "87385d51-ba98-4c67-92b2-36d1943db292",
   "metadata": {
    "editable": true,
    "slideshow": {
     "slide_type": ""
    },
    "tags": [
     "style-solution"
    ]
   },
   "source": [
    "Comments on graph compared with Draper-Gil et al. (2016): \n",
    "\n",
    "> It is somewhat hard to compare these results acurately as there are two lines on the graph that represent the 15s data that we are interested in.\n",
    ">\n",
    ">  The Precision with VPN results are very similar to that of the Draper-Gil results. With a range of results between 0.6 and 1. All Plots along the graph are similar.\n",
    ">\n",
    "> Precision without VPN results are very similar to one of the 15s plots on the Draper-Gil graph, following a similar pattern. However, The second line shows results that are quite different. Esspecially in the 'CHAT' data, my graph suggests around 0.85, whereas the Draper-Gil graph is round 0.68.\n",
    ">\n",
    "> Recall with VPN results are fairly similar, however 'chat' performs far worse in my model than Draper-Gil's. My data gives a value around 0.55, and Draper-Gils results are between 0.62 and 0.68.\n",
    ">\n",
    "> Recall without VPN results somewhat similar to that of those recorded in the Draper-Gil paper. The Chat, streaming and mail results do display a difference to one of the sets of data recorded by Draper-Gil.\n",
    ">"
   ]
  },
  {
   "cell_type": "markdown",
   "id": "ab62d6fd-6a37-426d-8947-5fb5819bcb17",
   "metadata": {
    "editable": true,
    "id": "PgrXvcqu7cjC",
    "slideshow": {
     "slide_type": ""
    },
    "tags": [
     "style-activity"
    ]
   },
   "source": [
    "### Improvements"
   ]
  },
  {
   "cell_type": "markdown",
   "id": "40766453",
   "metadata": {},
   "source": [
    "Make improvements to the first two models and compare them against the first two created."
   ]
  },
  {
   "cell_type": "code",
   "execution_count": 43,
   "id": "4106d35c-e512-4a53-8e1c-f59fb9e58232",
   "metadata": {
    "editable": true,
    "slideshow": {
     "slide_type": ""
    },
    "tags": [
     "style-solution"
    ]
   },
   "outputs": [],
   "source": [
    "# Your solution here\n",
    "# Use additional cells as needed.\n",
    "\n",
    "# Create the model d1\n",
    "model_d1 = tf.keras.Sequential([\n",
    "    tf.keras.layers.Input(input_shape),\n",
    "    tf.keras.layers.Dense(64, activation='relu'), \n",
    "    tf.keras.layers.Dense(64, activation='relu'),\n",
    "    tf.keras.layers.Dense(32, activation='relu'),\n",
    "    tf.keras.layers.Dense(7, activation='softmax')\n",
    "])\n",
    "\n",
    "\n"
   ]
  },
  {
   "cell_type": "code",
   "execution_count": 44,
   "id": "e204ae45-f9f8-4896-b2b9-a3e7805a4feb",
   "metadata": {
    "editable": true,
    "slideshow": {
     "slide_type": ""
    },
    "tags": []
   },
   "outputs": [],
   "source": [
    "# Set the opt, loss and metrics for model_d1\n",
    "model_d1.compile(optimizer='SGD',\n",
    "                loss='categorical_crossentropy',\n",
    "                metrics=['accuracy'])\n"
   ]
  },
  {
   "cell_type": "code",
   "execution_count": 45,
   "id": "b812c52d-43a2-4058-96f9-9c81935af66b",
   "metadata": {
    "editable": true,
    "scrolled": true,
    "slideshow": {
     "slide_type": ""
    },
    "tags": []
   },
   "outputs": [],
   "source": [
    "# Train model_d1\n",
    "history_d1 = model_d1.fit(train_vpn_data,\n",
    "                          validation_data=validation_vpn_data,\n",
    "                          epochs=300,\n",
    "                          verbose=0)\n",
    "                          "
   ]
  },
  {
   "cell_type": "code",
   "execution_count": 46,
   "id": "0d7df502-2939-473f-aa18-74dba6dd31e3",
   "metadata": {
    "editable": true,
    "slideshow": {
     "slide_type": ""
    },
    "tags": []
   },
   "outputs": [],
   "source": [
    "# save model_d1\n",
    "model_d1.save('model_d1.keras')\n",
    "\n",
    "with open('model_d1_history.json', 'w') as f:\n",
    "    json.dump(history_d1.history, f)"
   ]
  },
  {
   "cell_type": "code",
   "execution_count": 47,
   "id": "b2c3e0a7-917e-4b81-a59d-62ac2fa26a7d",
   "metadata": {
    "editable": true,
    "slideshow": {
     "slide_type": ""
    },
    "tags": []
   },
   "outputs": [],
   "source": [
    "# reload the model_d1\n",
    "model = tf.keras.models.load_model('model_d1.keras')\n",
    "\n",
    "with open('model_d1_history.json') as f:\n",
    "    sample6_history = json.load(f)"
   ]
  },
  {
   "cell_type": "code",
   "execution_count": 48,
   "id": "48a05579-895b-4f09-8a2e-e6ff60581da5",
   "metadata": {
    "editable": true,
    "slideshow": {
     "slide_type": ""
    },
    "tags": []
   },
   "outputs": [
    {
     "data": {
      "image/png": "[encoded data removed]",
      "text/plain": [
       "<Figure size 640x480 with 1 Axes>"
      ]
     },
     "metadata": {},
     "output_type": "display_data"
    },
    {
     "data": {
      "image/png": "[encoded data removed]",
      "text/plain": [
       "<Figure size 640x480 with 1 Axes>"
      ]
     },
     "metadata": {},
     "output_type": "display_data"
    }
   ],
   "source": [
    "# Plot accuracy and loss graphs\n",
    "\n",
    "acc = sample6_history['accuracy']\n",
    "val_acc = sample6_history['val_accuracy']\n",
    "loss = sample6_history['loss']\n",
    "val_loss = sample6_history['val_loss']\n",
    "\n",
    "epochs = range(len(acc))\n",
    "\n",
    "plt.plot(epochs, acc, 'ro', label='Training acc')\n",
    "plt.plot(epochs, val_acc, 'b', label='Validation acc')\n",
    "plt.title('Training and validation accuracy')\n",
    "plt.legend()\n",
    "\n",
    "plt.figure()\n",
    "\n",
    "plt.plot(epochs, loss, 'ro', label='Training loss')\n",
    "plt.plot(epochs, val_loss, 'b', label='Validation loss')\n",
    "plt.title('Training and validation loss')\n",
    "plt.legend()\n",
    "\n",
    "plt.show()"
   ]
  },
  {
   "cell_type": "markdown",
   "id": "6192dc72-e71e-4956-a320-016b5ee86de9",
   "metadata": {
    "editable": true,
    "slideshow": {
     "slide_type": ""
    },
    "tags": [
     "style-solution"
    ]
   },
   "source": [
    "comment on graphs:\n",
    ">\n",
    "> These graphs imply good classification and good learning with no signs of over-fitting.\n",
    ">\n",
    "> The model reaches an accuracy of nearly 90% showing the model is learning well.\n",
    ">\n",
    "> The model also reaches a loss of around 0.4."
   ]
  },
  {
   "cell_type": "code",
   "execution_count": 49,
   "id": "27bb4e4a-5ebd-4e55-a89d-83a97438c934",
   "metadata": {
    "editable": true,
    "slideshow": {
     "slide_type": ""
    },
    "tags": []
   },
   "outputs": [
    {
     "name": "stdout",
     "output_type": "stream",
     "text": [
      "\u001b[1m108/108\u001b[0m \u001b[32m━━━━━━━━━━━━━━━━━━━━\u001b[0m\u001b[37m\u001b[0m \u001b[1m0s\u001b[0m 2ms/step - accuracy: 0.8686 - loss: 0.3480\n"
     ]
    },
    {
     "data": {
      "text/plain": [
       "{'accuracy': 0.8710618615150452, 'loss': 0.3508884310722351}"
      ]
     },
     "execution_count": 49,
     "metadata": {},
     "output_type": "execute_result"
    }
   ],
   "source": [
    "# Evaluate the model on training data\n",
    "model_d1.evaluate(train_vpn_data, return_dict=True)"
   ]
  },
  {
   "cell_type": "code",
   "execution_count": 50,
   "id": "32bfa9b2-e82e-4b0f-90d0-ead851876909",
   "metadata": {
    "editable": true,
    "slideshow": {
     "slide_type": ""
    },
    "tags": []
   },
   "outputs": [
    {
     "name": "stdout",
     "output_type": "stream",
     "text": [
      "\u001b[1m16/16\u001b[0m \u001b[32m━━━━━━━━━━━━━━━━━━━━\u001b[0m\u001b[37m\u001b[0m \u001b[1m0s\u001b[0m 1ms/step - accuracy: 0.8966 - loss: 0.3223\n"
     ]
    },
    {
     "data": {
      "text/plain": [
       "{'accuracy': 0.8794688582420349, 'loss': 0.35961830615997314}"
      ]
     },
     "execution_count": 50,
     "metadata": {},
     "output_type": "execute_result"
    }
   ],
   "source": [
    "# Evaluate the model on validation data\n",
    "model_d1.evaluate(validation_vpn_data, return_dict=True)"
   ]
  },
  {
   "cell_type": "markdown",
   "id": "babfdd3e-e4e4-47eb-b1b2-8349654312f5",
   "metadata": {
    "editable": true,
    "slideshow": {
     "slide_type": ""
    },
    "tags": [
     "style-solution"
    ]
   },
   "source": [
    "comment on evaluation:\n",
    "\n",
    "> The accuracy is of a very acceptable value at 87% for both the validation and training data. The loss values for training and validation data are 0.35 and 0.36 respectively. Indicating the validation data is working better than the training data. This could again be down to the distribution of the data.\n",
    "> \n",
    "> The graph hasn't quite started to level out, so this model could benefit from more training."
   ]
  },
  {
   "cell_type": "code",
   "execution_count": 51,
   "id": "f62160cc-456f-4369-b76d-0f4ad4c617b8",
   "metadata": {
    "editable": true,
    "slideshow": {
     "slide_type": ""
    },
    "tags": []
   },
   "outputs": [
    {
     "name": "stdout",
     "output_type": "stream",
     "text": [
      "\u001b[1m31/31\u001b[0m \u001b[32m━━━━━━━━━━━━━━━━━━━━\u001b[0m\u001b[37m\u001b[0m \u001b[1m0s\u001b[0m 5ms/step\n"
     ]
    }
   ],
   "source": [
    "# Generate predictions\n",
    "test_predictions_d1 = model_d1.predict(test_vpn_data)"
   ]
  },
  {
   "cell_type": "code",
   "execution_count": 52,
   "id": "44d24798-acba-47e4-9ddb-936fe1221c65",
   "metadata": {
    "editable": true,
    "slideshow": {
     "slide_type": ""
    },
    "tags": []
   },
   "outputs": [],
   "source": [
    "# Generate predicted and actual labels for confusion matrix\n",
    "predict_labels_d1 = np.argmax(test_predictions_d1, axis=1)"
   ]
  },
  {
   "cell_type": "code",
   "execution_count": 53,
   "id": "8dd63b8c-7d39-4206-bfbb-3adfeeb89b9e",
   "metadata": {
    "editable": true,
    "slideshow": {
     "slide_type": ""
    },
    "tags": []
   },
   "outputs": [
    {
     "data": {
      "text/html": [
       "<h3>Confusion matrix</h3>\n",
       "<table border=1>\n",
       "<tr><td>&nbsp;</td><td>&nbsp;</td><th colspan=10}>Predicted labels</th></tr>\n",
       "<tr><td>&nbsp;</td><td>&nbsp;</td><td><strong>BROWSING</strong></td><td><strong>CHAT</strong></td><td><strong>STREAMING</strong></td><td><strong>MAIL</strong></td><td><strong>VOIP</strong></td><td><strong>P2P</strong></td><td><strong>FT</strong></td></tr>\n",
       "<tr>\n",
       "<th rowspan=11>Actual labels</th>\n",
       "<tr>\n",
       "  <td><strong>BROWSING</strong></td>\n",
       "  <td>464</td>\n",
       "  <td>14</td>\n",
       "  <td>6</td>\n",
       "  <td>0</td>\n",
       "  <td>0</td>\n",
       "  <td>4</td>\n",
       "  <td>11</td>\n",
       "</tr>\n",
       "<tr>\n",
       "  <td><strong>CHAT</strong></td>\n",
       "  <td>36</td>\n",
       "  <td>144</td>\n",
       "  <td>1</td>\n",
       "  <td>8</td>\n",
       "  <td>2</td>\n",
       "  <td>10</td>\n",
       "  <td>27</td>\n",
       "</tr>\n",
       "<tr>\n",
       "  <td><strong>STREAMING</strong></td>\n",
       "  <td>1</td>\n",
       "  <td>0</td>\n",
       "  <td>85</td>\n",
       "  <td>0</td>\n",
       "  <td>0</td>\n",
       "  <td>5</td>\n",
       "  <td>2</td>\n",
       "</tr>\n",
       "<tr>\n",
       "  <td><strong>MAIL</strong></td>\n",
       "  <td>4</td>\n",
       "  <td>4</td>\n",
       "  <td>0</td>\n",
       "  <td>86</td>\n",
       "  <td>0</td>\n",
       "  <td>0</td>\n",
       "  <td>10</td>\n",
       "</tr>\n",
       "<tr>\n",
       "  <td><strong>VOIP</strong></td>\n",
       "  <td>0</td>\n",
       "  <td>1</td>\n",
       "  <td>0</td>\n",
       "  <td>0</td>\n",
       "  <td>453</td>\n",
       "  <td>5</td>\n",
       "  <td>2</td>\n",
       "</tr>\n",
       "<tr>\n",
       "  <td><strong>P2P</strong></td>\n",
       "  <td>11</td>\n",
       "  <td>3</td>\n",
       "  <td>3</td>\n",
       "  <td>0</td>\n",
       "  <td>1</td>\n",
       "  <td>127</td>\n",
       "  <td>22</td>\n",
       "</tr>\n",
       "<tr>\n",
       "  <td><strong>FT</strong></td>\n",
       "  <td>20</td>\n",
       "  <td>33</td>\n",
       "  <td>2</td>\n",
       "  <td>16</td>\n",
       "  <td>2</td>\n",
       "  <td>10</td>\n",
       "  <td>323</td>\n",
       "</tr>\n",
       "</table>"
      ],
      "text/plain": [
       "<IPython.core.display.HTML object>"
      ]
     },
     "metadata": {},
     "output_type": "display_data"
    }
   ],
   "source": [
    "# Generate confusion matrix\n",
    "cmatrix_d1 = tf.math.confusion_matrix(test_vpn_labels, predict_labels_d1).numpy()\n",
    "pretty_cm(cmatrix_d1)"
   ]
  },
  {
   "cell_type": "markdown",
   "id": "e998c672-868f-4095-8497-870e10892211",
   "metadata": {
    "editable": true,
    "slideshow": {
     "slide_type": ""
    },
    "tags": [
     "style-solution"
    ]
   },
   "source": [
    "Comment on confusion matrix:\n",
    "> This shows model_d1 is a good model, for most of the labels.\n",
    ">\n",
    "> However, the model performs incorrectly predicts the 'ft' label 12% of the time and incorrectly predicts the 'browsing' label 16% of the time when it should be labeled 'chat'. In fact of all the data that should be labaled 'chat', the prediction is incorrect 37% of the time.\n",
    ">\n",
    "> The model also incorrectly labels 'P2P' data as 'FT' 12% of the time. "
   ]
  },
  {
   "cell_type": "code",
   "execution_count": 54,
   "id": "697dd511-7e84-4c46-99f9-6765656711e7",
   "metadata": {
    "editable": true,
    "slideshow": {
     "slide_type": ""
    },
    "tags": []
   },
   "outputs": [],
   "source": [
    "# Create the model d2\n",
    "model_d2 = tf.keras.Sequential([\n",
    "    tf.keras.layers.Input(input_shape),\n",
    "    tf.keras.layers.Dense(64, activation='relu'), \n",
    "    tf.keras.layers.Dense(64, activation='relu'),\n",
    "    tf.keras.layers.Dense(32, activation='relu'),\n",
    "    tf.keras.layers.Dense(7, activation='softmax')\n",
    "])"
   ]
  },
  {
   "cell_type": "code",
   "execution_count": 55,
   "id": "22ac7cda-902a-4d53-a8a6-c73cddcec172",
   "metadata": {
    "editable": true,
    "slideshow": {
     "slide_type": ""
    },
    "tags": []
   },
   "outputs": [],
   "source": [
    "# Set the opt, loss and metrics for model_d2\n",
    "model_d2.compile(optimizer='SGD',\n",
    "              loss='categorical_crossentropy',\n",
    "              metrics=['accuracy'])"
   ]
  },
  {
   "cell_type": "code",
   "execution_count": 56,
   "id": "d8ef5cd8-d4ec-4d01-adc0-b5ac9ed2c7e5",
   "metadata": {
    "editable": true,
    "slideshow": {
     "slide_type": ""
    },
    "tags": []
   },
   "outputs": [],
   "source": [
    "# Train model_d2\n",
    "history_d2 = model_d2.fit(train_no_vpn_data,\n",
    "                          validation_data=validation_no_vpn_data,\n",
    "                          epochs=300,\n",
    "                          verbose=0)"
   ]
  },
  {
   "cell_type": "code",
   "execution_count": 57,
   "id": "8c280c96-1e88-49e6-bdbe-f8a7a185afea",
   "metadata": {
    "editable": true,
    "slideshow": {
     "slide_type": ""
    },
    "tags": []
   },
   "outputs": [],
   "source": [
    "# save model_d2\n",
    "model_d2.save('model_d2.keras')\n",
    "\n",
    "with open('model_d2_history.json', 'w') as f:\n",
    "    json.dump(history_d2.history, f)"
   ]
  },
  {
   "cell_type": "code",
   "execution_count": 58,
   "id": "c5f87952-d38c-434b-b842-17730b01e98e",
   "metadata": {
    "editable": true,
    "slideshow": {
     "slide_type": ""
    },
    "tags": []
   },
   "outputs": [],
   "source": [
    "# reload the model_d2\n",
    "model_d2 = tf.keras.models.load_model('model_d2.keras')\n",
    "\n",
    "with open('model_d2_history.json') as f:\n",
    "    sample7_history = json.load(f)"
   ]
  },
  {
   "cell_type": "code",
   "execution_count": 59,
   "id": "24baee97-a93b-48ef-8f63-bb0b9621da50",
   "metadata": {
    "editable": true,
    "slideshow": {
     "slide_type": ""
    },
    "tags": []
   },
   "outputs": [
    {
     "data": {
      "image/png": "[encoded data removed]",
      "text/plain": [
       "<Figure size 640x480 with 1 Axes>"
      ]
     },
     "metadata": {},
     "output_type": "display_data"
    },
    {
     "data": {
      "image/png": "[encoded data removed]",
      "text/plain": [
       "<Figure size 640x480 with 1 Axes>"
      ]
     },
     "metadata": {},
     "output_type": "display_data"
    }
   ],
   "source": [
    "# Plot accuracy and loss graphs\n",
    "\n",
    "acc = sample7_history['accuracy']\n",
    "val_acc = sample7_history['val_accuracy']\n",
    "loss = sample7_history['loss']\n",
    "val_loss = sample7_history['val_loss']\n",
    "\n",
    "epochs = range(len(acc))\n",
    "\n",
    "plt.plot(epochs, acc, 'ro', label='Training acc')\n",
    "plt.plot(epochs, val_acc, 'b', label='Validation acc')\n",
    "plt.title('Training and validation accuracy')\n",
    "plt.legend()\n",
    "\n",
    "plt.figure()\n",
    "\n",
    "plt.plot(epochs, loss, 'ro', label='Training loss')\n",
    "plt.plot(epochs, val_loss, 'b', label='Validation loss')\n",
    "plt.title('Training and validation loss')\n",
    "plt.legend()\n",
    "\n",
    "plt.show()"
   ]
  },
  {
   "cell_type": "markdown",
   "id": "e3b31ad6-9f76-4129-8e5b-449bf0a273a2",
   "metadata": {
    "editable": true,
    "slideshow": {
     "slide_type": ""
    },
    "tags": [
     "style-solution"
    ]
   },
   "source": [
    "Comment of graphs:\n",
    ">\n",
    "> Starts to level out around 200-250 epochs  for loss and at around 150 for accuracy, so perhaps doesn't need as much training as it is currently having.\n",
    "> Especially as the loss curves for the training loss and the validation loss start to get further apart.\n",
    ">\n",
    "> The loss reaches a value of around 0.2 and the accuracy passes above 90%. This shows the model is getting very good at making predictions. "
   ]
  },
  {
   "cell_type": "code",
   "execution_count": 60,
   "id": "e94c7d47-9572-420f-acb1-e9ff524cdd0c",
   "metadata": {
    "editable": true,
    "slideshow": {
     "slide_type": ""
    },
    "tags": []
   },
   "outputs": [
    {
     "name": "stdout",
     "output_type": "stream",
     "text": [
      "\u001b[1m99/99\u001b[0m \u001b[32m━━━━━━━━━━━━━━━━━━━━\u001b[0m\u001b[37m\u001b[0m \u001b[1m1s\u001b[0m 3ms/step - accuracy: 0.9490 - loss: 0.1522\n"
     ]
    },
    {
     "data": {
      "text/plain": [
       "{'accuracy': 0.9466305375099182, 'loss': 0.1586485356092453}"
      ]
     },
     "execution_count": 60,
     "metadata": {},
     "output_type": "execute_result"
    }
   ],
   "source": [
    "# Evaluate the model on training data\n",
    "model_d2.evaluate(train_no_vpn_data, return_dict=True)"
   ]
  },
  {
   "cell_type": "code",
   "execution_count": 61,
   "id": "ac0523e3-6d27-427d-b97a-b354acc6da94",
   "metadata": {
    "editable": true,
    "slideshow": {
     "slide_type": ""
    },
    "tags": []
   },
   "outputs": [
    {
     "name": "stdout",
     "output_type": "stream",
     "text": [
      "\u001b[1m14/14\u001b[0m \u001b[32m━━━━━━━━━━━━━━━━━━━━\u001b[0m\u001b[37m\u001b[0m \u001b[1m0s\u001b[0m 998us/step - accuracy: 0.9425 - loss: 0.2106\n"
     ]
    },
    {
     "data": {
      "text/plain": [
       "{'accuracy': 0.9397321343421936, 'loss': 0.20396003127098083}"
      ]
     },
     "execution_count": 61,
     "metadata": {},
     "output_type": "execute_result"
    }
   ],
   "source": [
    "# Evaluate the model on validation data\n",
    "model_d2.evaluate(validation_no_vpn_data, return_dict=True)"
   ]
  },
  {
   "cell_type": "markdown",
   "id": "d9194a7e-b1e1-4a94-915d-29bae6181545",
   "metadata": {
    "editable": true,
    "slideshow": {
     "slide_type": ""
    },
    "tags": [
     "style-solution"
    ]
   },
   "source": [
    "Comment on the evaluation of the model:\n",
    ">\n",
    "> This is a really good level of accuracy at 95% for training data and 94% for validation data.\n",
    ">\n",
    "> The loss of around is now at 0.16 for training data, however that does increase to 0.20 for the validation data which is to be expected."
   ]
  },
  {
   "cell_type": "code",
   "execution_count": 62,
   "id": "72112d94-b326-41c5-aed1-b6cc5aa564fb",
   "metadata": {
    "editable": true,
    "slideshow": {
     "slide_type": ""
    },
    "tags": []
   },
   "outputs": [
    {
     "name": "stdout",
     "output_type": "stream",
     "text": [
      "\u001b[1m28/28\u001b[0m \u001b[32m━━━━━━━━━━━━━━━━━━━━\u001b[0m\u001b[37m\u001b[0m \u001b[1m0s\u001b[0m 1ms/step \n"
     ]
    }
   ],
   "source": [
    "# Generate predictions\n",
    "test_predictions_d2 = model_d2.predict(test_no_vpn_data)"
   ]
  },
  {
   "cell_type": "code",
   "execution_count": 63,
   "id": "678fc2fe-7507-40e7-8066-4189843c77cb",
   "metadata": {
    "editable": true,
    "slideshow": {
     "slide_type": ""
    },
    "tags": []
   },
   "outputs": [],
   "source": [
    "# Generate predicted and actual labels for confusion matrix\n",
    "predict_labels_d2 = np.argmax(test_predictions_d2, axis=1)"
   ]
  },
  {
   "cell_type": "code",
   "execution_count": 64,
   "id": "34452cd9-362d-4c6a-8e89-a5ce2e2f2963",
   "metadata": {
    "editable": true,
    "slideshow": {
     "slide_type": ""
    },
    "tags": []
   },
   "outputs": [
    {
     "data": {
      "text/html": [
       "<h3>Confusion matrix</h3>\n",
       "<table border=1>\n",
       "<tr><td>&nbsp;</td><td>&nbsp;</td><th colspan=10}>Predicted labels</th></tr>\n",
       "<tr><td>&nbsp;</td><td>&nbsp;</td><td><strong>BROWSING</strong></td><td><strong>CHAT</strong></td><td><strong>STREAMING</strong></td><td><strong>MAIL</strong></td><td><strong>VOIP</strong></td><td><strong>P2P</strong></td><td><strong>FT</strong></td></tr>\n",
       "<tr>\n",
       "<th rowspan=11>Actual labels</th>\n",
       "<tr>\n",
       "  <td><strong>BROWSING</strong></td>\n",
       "  <td>514</td>\n",
       "  <td>16</td>\n",
       "  <td>2</td>\n",
       "  <td>1</td>\n",
       "  <td>0</td>\n",
       "  <td>1</td>\n",
       "  <td>0</td>\n",
       "</tr>\n",
       "<tr>\n",
       "  <td><strong>CHAT</strong></td>\n",
       "  <td>13</td>\n",
       "  <td>159</td>\n",
       "  <td>2</td>\n",
       "  <td>0</td>\n",
       "  <td>1</td>\n",
       "  <td>0</td>\n",
       "  <td>4</td>\n",
       "</tr>\n",
       "<tr>\n",
       "  <td><strong>STREAMING</strong></td>\n",
       "  <td>9</td>\n",
       "  <td>3</td>\n",
       "  <td>72</td>\n",
       "  <td>0</td>\n",
       "  <td>0</td>\n",
       "  <td>2</td>\n",
       "  <td>4</td>\n",
       "</tr>\n",
       "<tr>\n",
       "  <td><strong>MAIL</strong></td>\n",
       "  <td>2</td>\n",
       "  <td>0</td>\n",
       "  <td>0</td>\n",
       "  <td>35</td>\n",
       "  <td>1</td>\n",
       "  <td>0</td>\n",
       "  <td>6</td>\n",
       "</tr>\n",
       "<tr>\n",
       "  <td><strong>VOIP</strong></td>\n",
       "  <td>1</td>\n",
       "  <td>0</td>\n",
       "  <td>0</td>\n",
       "  <td>0</td>\n",
       "  <td>561</td>\n",
       "  <td>0</td>\n",
       "  <td>1</td>\n",
       "</tr>\n",
       "<tr>\n",
       "  <td><strong>P2P</strong></td>\n",
       "  <td>0</td>\n",
       "  <td>7</td>\n",
       "  <td>0</td>\n",
       "  <td>0</td>\n",
       "  <td>0</td>\n",
       "  <td>193</td>\n",
       "  <td>1</td>\n",
       "</tr>\n",
       "<tr>\n",
       "  <td><strong>FT</strong></td>\n",
       "  <td>5</td>\n",
       "  <td>5</td>\n",
       "  <td>2</td>\n",
       "  <td>7</td>\n",
       "  <td>4</td>\n",
       "  <td>1</td>\n",
       "  <td>157</td>\n",
       "</tr>\n",
       "</table>"
      ],
      "text/plain": [
       "<IPython.core.display.HTML object>"
      ]
     },
     "metadata": {},
     "output_type": "display_data"
    }
   ],
   "source": [
    "# Generate confusion matrix\n",
    "cmatrix_d2 = tf.math.confusion_matrix(test_no_vpn_labels, predict_labels_d2).numpy()\n",
    "pretty_cm(cmatrix_d2)"
   ]
  },
  {
   "cell_type": "markdown",
   "id": "5fd39632-e2dd-4c15-99bd-51c64431b70a",
   "metadata": {
    "editable": true,
    "slideshow": {
     "slide_type": ""
    },
    "tags": [
     "style-solution"
    ]
   },
   "source": [
    "comment on confusion matrix\n",
    ">\n",
    "> Training graph is saying that the model is working well, and this confusion matrix shows it working brilliantly well with test data. Highlighted by very few errors. The highest percentage error for one of the labels is when 'browsing' is mistakenly predicted instead of 'chat' which is only 6%\n",
    ">\n",
    ">\n",
    "> The graphs and confusion matrix for this model, far outperform the graphs for model_d1. The errors or the 'chat' labels have decreased from 37% to 11%. \n"
   ]
  },
  {
   "cell_type": "markdown",
   "id": "09474be2-652b-4e87-9166-c502c766dcc9",
   "metadata": {
    "editable": true,
    "slideshow": {
     "slide_type": ""
    },
    "tags": [
     "style-solution"
    ]
   },
   "source": [
    "comment on overall, compared with (a) and (b)\n",
    ">\n",
    "> Model_d1 is much closer to being as effective as those in parts a and b. However model_d2 is much more effective than those in parts a and b. This is highlighted as there are fewer errors in the confusion matrix for model_d2 than model_d1.\n",
    ">\n",
    "> The model training the no VPN data, in the second part of this question (model_d2) is best suited for this data."
   ]
  },
  {
   "cell_type": "markdown",
   "id": "f53d2603-7f01-4056-8085-6ab5a84aec4c",
   "metadata": {
    "editable": true,
    "slideshow": {
     "slide_type": ""
    },
    "tags": [
     "style-activity"
    ]
   },
   "source": [
    "# Part e (3 marks)"
   ]
  },
  {
   "cell_type": "markdown",
   "id": "5fc697aa-9229-480a-98a8-6cce78f722af",
   "metadata": {
    "editable": true,
    "slideshow": {
     "slide_type": ""
    },
    "tags": [
     "style-activity"
    ]
   },
   "source": [
    " How well do the improved models  work on the dataset it wasn't trained on? ie. the models trained on VPN data, tested against non VPN data and visa versa."
   ]
  },
  {
   "cell_type": "code",
   "execution_count": 93,
   "id": "e9a8ab10-8570-4c95-abd3-564b5eb525f4",
   "metadata": {
    "editable": true,
    "slideshow": {
     "slide_type": ""
    },
    "tags": []
   },
   "outputs": [
    {
     "name": "stdout",
     "output_type": "stream",
     "text": [
      "\u001b[1m31/31\u001b[0m \u001b[32m━━━━━━━━━━━━━━━━━━━━\u001b[0m\u001b[37m\u001b[0m \u001b[1m0s\u001b[0m 1ms/step - accuracy: 0.8429 - loss: 0.4161\n"
     ]
    },
    {
     "data": {
      "text/plain": [
       "{'accuracy': 0.8539325594902039, 'loss': 0.3994064927101135}"
      ]
     },
     "execution_count": 93,
     "metadata": {},
     "output_type": "execute_result"
    }
   ],
   "source": [
    "# Evaluate the model\n",
    "model_d1.evaluate(test_vpn_data, return_dict=True)"
   ]
  },
  {
   "cell_type": "code",
   "execution_count": 94,
   "id": "29c63c3f-2ea8-49eb-a699-390df07183a3",
   "metadata": {
    "editable": true,
    "slideshow": {
     "slide_type": ""
    },
    "tags": []
   },
   "outputs": [
    {
     "name": "stdout",
     "output_type": "stream",
     "text": [
      "\u001b[1m28/28\u001b[0m \u001b[32m━━━━━━━━━━━━━━━━━━━━\u001b[0m\u001b[37m\u001b[0m \u001b[1m0s\u001b[0m 1ms/step - accuracy: 0.9305 - loss: 0.1907\n"
     ]
    },
    {
     "data": {
      "text/plain": [
       "{'accuracy': 0.9308035969734192, 'loss': 0.19991502165794373}"
      ]
     },
     "execution_count": 94,
     "metadata": {},
     "output_type": "execute_result"
    }
   ],
   "source": [
    "# Evaluate the model_d2 on test data\n",
    "model_d2.evaluate(test_no_vpn_data, return_dict=True)"
   ]
  },
  {
   "cell_type": "markdown",
   "id": "aaa910af-964b-4394-b3c8-9dbaea79eb93",
   "metadata": {
    "editable": true,
    "slideshow": {
     "slide_type": ""
    },
    "tags": [
     "style-solution"
    ]
   },
   "source": [
    "Comments:\n",
    ">\n",
    "> Model_d1 is performing in a similar fashion to when it was looking at the validation and test data. It has an accuracy of 0.85 and a loss of 0.40.\n",
    ">\n",
    "> Model_d2 performs equally as well as on the training and validation data as with this test data. With an accuracy of 0.93 and a loss of 0.2.\n",
    ">\n",
    "> Both models perform well on the test_data. However, Model_d2 performs best, with an accuracy nearly 10% higher and a loss 0.199 lower."
   ]
  },
  {
   "cell_type": "markdown",
   "id": "2d0a82d2-7e9d-49ef-abac-e3a4cd3ca756",
   "metadata": {
    "editable": true,
    "slideshow": {
     "slide_type": ""
    },
    "tags": [
     "style-activity"
    ]
   },
   "source": [
    "combine the `vpn` and `no_vpn` datasets and classify the flows when they are a mixture of VPN and non-VPN traffic\n"
   ]
  },
  {
   "cell_type": "code",
   "execution_count": 65,
   "id": "f537c53a-2ce9-4338-b5ed-f62bf135b647",
   "metadata": {
    "editable": true,
    "slideshow": {
     "slide_type": ""
    },
    "tags": []
   },
   "outputs": [],
   "source": [
    "train_all_data = train_vpn_data.concatenate(train_no_vpn_data)\n",
    "train_all_data = train_all_data.shuffle(200)\n",
    "\n",
    "validation_all_data = validation_vpn_data.concatenate(validation_no_vpn_data)\n",
    "\n",
    "test_all_data = test_vpn_data.concatenate(test_no_vpn_data)\n",
    "\n",
    "test_all_labels = np.array(list(test_all_data.unbatch().map(lambda x, y: y).as_numpy_iterator()))\n",
    "test_all_labels = np.argmax(test_all_labels, axis=1)"
   ]
  },
  {
   "cell_type": "code",
   "execution_count": 66,
   "id": "24ce5414-7e4d-4ba3-9390-5ac09b45161a",
   "metadata": {
    "editable": true,
    "slideshow": {
     "slide_type": ""
    },
    "tags": [
     "style-solution"
    ]
   },
   "outputs": [],
   "source": [
    "# Your solution here\n",
    "# Use additional cells as needed.\n",
    "\n",
    "# Create the model\n",
    "model_f = tf.keras.Sequential([\n",
    "    tf.keras.layers.Input(input_shape),\n",
    "    tf.keras.layers.Dense(64, activation='relu'), \n",
    "    tf.keras.layers.Dense(64, activation='relu'),\n",
    "    tf.keras.layers.Dense(32, activation='relu'),\n",
    "    tf.keras.layers.Dense(7, activation='softmax')\n",
    "])"
   ]
  },
  {
   "cell_type": "code",
   "execution_count": 67,
   "id": "3537a5b1-aef0-4e87-a1cc-f3a6eb6e3272",
   "metadata": {
    "editable": true,
    "slideshow": {
     "slide_type": ""
    },
    "tags": []
   },
   "outputs": [],
   "source": [
    "# Set the optimiser, loss and metrics\n",
    "model_f.compile(optimizer='SGD',\n",
    "                loss='categorical_crossentropy',\n",
    "                metrics=['accuracy'])"
   ]
  },
  {
   "cell_type": "code",
   "execution_count": 68,
   "id": "094a51f5-a8b0-43d1-a0ee-a3de42c35f74",
   "metadata": {
    "editable": true,
    "slideshow": {
     "slide_type": ""
    },
    "tags": []
   },
   "outputs": [],
   "source": [
    "history_f = model_f.fit(train_all_data,\n",
    "                        validation_data=validation_all_data,\n",
    "                        epochs=300,\n",
    "                        verbose=0)"
   ]
  },
  {
   "cell_type": "code",
   "execution_count": 69,
   "id": "732c8e0b-6f5f-4283-b20b-59ab14422547",
   "metadata": {
    "editable": true,
    "slideshow": {
     "slide_type": ""
    },
    "tags": []
   },
   "outputs": [
    {
     "data": {
      "image/png": "[encoded data removed]",
      "text/plain": [
       "<Figure size 640x480 with 1 Axes>"
      ]
     },
     "metadata": {},
     "output_type": "display_data"
    },
    {
     "data": {
      "image/png": "[encoded data removed]",
      "text/plain": [
       "<Figure size 640x480 with 1 Axes>"
      ]
     },
     "metadata": {},
     "output_type": "display_data"
    }
   ],
   "source": [
    "acc = history_f.history['accuracy']\n",
    "val_acc = history_f.history['val_accuracy']\n",
    "loss = history_f.history['loss']\n",
    "val_loss = history_f.history['val_loss']\n",
    "\n",
    "epochs = range(len(acc))\n",
    "\n",
    "plt.plot(epochs, acc, 'ro', label='All Training acc')\n",
    "plt.plot(epochs, val_acc, 'b', label='All Validation acc')\n",
    "plt.title('All Training and validation accuracy')\n",
    "plt.legend()\n",
    "\n",
    "plt.figure()\n",
    "\n",
    "plt.plot(epochs, loss, 'ro', label='All Training loss')\n",
    "plt.plot(epochs, val_loss, 'b', label='All Validation loss')\n",
    "plt.title('All Training and validation loss')\n",
    "plt.legend()\n",
    "\n",
    "plt.show()"
   ]
  },
  {
   "cell_type": "code",
   "execution_count": 70,
   "id": "46eec47a-175e-445b-9d4c-ec0fd2bb38fd",
   "metadata": {
    "editable": true,
    "slideshow": {
     "slide_type": ""
    },
    "tags": []
   },
   "outputs": [
    {
     "name": "stdout",
     "output_type": "stream",
     "text": [
      "\u001b[1m59/59\u001b[0m \u001b[32m━━━━━━━━━━━━━━━━━━━━\u001b[0m\u001b[37m\u001b[0m \u001b[1m0s\u001b[0m 4ms/step - accuracy: 0.8599 - loss: 0.4153\n"
     ]
    },
    {
     "data": {
      "text/plain": [
       "{'accuracy': 0.8810666799545288, 'loss': 0.35832446813583374}"
      ]
     },
     "execution_count": 70,
     "metadata": {},
     "output_type": "execute_result"
    }
   ],
   "source": [
    "# Evaluate the model\n",
    "model_f.evaluate(test_all_data, return_dict=True)"
   ]
  },
  {
   "cell_type": "code",
   "execution_count": 71,
   "id": "b574426f-bb3a-46bf-8506-de519cb4212e",
   "metadata": {
    "editable": true,
    "slideshow": {
     "slide_type": ""
    },
    "tags": []
   },
   "outputs": [
    {
     "name": "stdout",
     "output_type": "stream",
     "text": [
      "\u001b[1m59/59\u001b[0m \u001b[32m━━━━━━━━━━━━━━━━━━━━\u001b[0m\u001b[37m\u001b[0m \u001b[1m0s\u001b[0m 2ms/step\n"
     ]
    },
    {
     "data": {
      "text/html": [
       "<h3>Confusion matrix</h3>\n",
       "<table border=1>\n",
       "<tr><td>&nbsp;</td><td>&nbsp;</td><th colspan=10}>Predicted labels</th></tr>\n",
       "<tr><td>&nbsp;</td><td>&nbsp;</td><td><strong>BROWSING</strong></td><td><strong>CHAT</strong></td><td><strong>STREAMING</strong></td><td><strong>MAIL</strong></td><td><strong>VOIP</strong></td><td><strong>P2P</strong></td><td><strong>FT</strong></td></tr>\n",
       "<tr>\n",
       "<th rowspan=11>Actual labels</th>\n",
       "<tr>\n",
       "  <td><strong>BROWSING</strong></td>\n",
       "  <td>950</td>\n",
       "  <td>27</td>\n",
       "  <td>14</td>\n",
       "  <td>2</td>\n",
       "  <td>0</td>\n",
       "  <td>23</td>\n",
       "  <td>17</td>\n",
       "</tr>\n",
       "<tr>\n",
       "  <td><strong>CHAT</strong></td>\n",
       "  <td>63</td>\n",
       "  <td>283</td>\n",
       "  <td>2</td>\n",
       "  <td>9</td>\n",
       "  <td>2</td>\n",
       "  <td>16</td>\n",
       "  <td>32</td>\n",
       "</tr>\n",
       "<tr>\n",
       "  <td><strong>STREAMING</strong></td>\n",
       "  <td>10</td>\n",
       "  <td>3</td>\n",
       "  <td>156</td>\n",
       "  <td>0</td>\n",
       "  <td>0</td>\n",
       "  <td>11</td>\n",
       "  <td>3</td>\n",
       "</tr>\n",
       "<tr>\n",
       "  <td><strong>MAIL</strong></td>\n",
       "  <td>5</td>\n",
       "  <td>3</td>\n",
       "  <td>1</td>\n",
       "  <td>126</td>\n",
       "  <td>0</td>\n",
       "  <td>0</td>\n",
       "  <td>13</td>\n",
       "</tr>\n",
       "<tr>\n",
       "  <td><strong>VOIP</strong></td>\n",
       "  <td>1</td>\n",
       "  <td>5</td>\n",
       "  <td>0</td>\n",
       "  <td>0</td>\n",
       "  <td>1010</td>\n",
       "  <td>3</td>\n",
       "  <td>5</td>\n",
       "</tr>\n",
       "<tr>\n",
       "  <td><strong>P2P</strong></td>\n",
       "  <td>6</td>\n",
       "  <td>12</td>\n",
       "  <td>3</td>\n",
       "  <td>1</td>\n",
       "  <td>0</td>\n",
       "  <td>334</td>\n",
       "  <td>12</td>\n",
       "</tr>\n",
       "<tr>\n",
       "  <td><strong>FT</strong></td>\n",
       "  <td>18</td>\n",
       "  <td>50</td>\n",
       "  <td>7</td>\n",
       "  <td>22</td>\n",
       "  <td>2</td>\n",
       "  <td>43</td>\n",
       "  <td>445</td>\n",
       "</tr>\n",
       "</table>"
      ],
      "text/plain": [
       "<IPython.core.display.HTML object>"
      ]
     },
     "metadata": {},
     "output_type": "display_data"
    }
   ],
   "source": [
    "# generate predictions for a confusion matrix\n",
    "test_predictions_f = model_f.predict(test_all_data)\n",
    "# generate predicted labels\n",
    "predict_labels_f = np.argmax(test_predictions_f, axis=1)\n",
    "\n",
    "# Generate confusion matrix\n",
    "cmatrix_f = tf.math.confusion_matrix(test_all_labels, predict_labels_f).numpy()\n",
    "pretty_cm(cmatrix_f)"
   ]
  },
  {
   "cell_type": "markdown",
   "id": "94922956-ca1e-4606-8c77-d4bb58986f9c",
   "metadata": {
    "editable": true,
    "slideshow": {
     "slide_type": ""
    },
    "tags": [
     "style-solution"
    ]
   },
   "source": [
    "Comment on the confusion matrix compared next to the previous matrices.\n",
    "\n",
    "> This confusion matrix is very accurate in some places and less accurate in others. The 'chat' data is incorrectly labeled 30% of the time, mainly as 'browsing' and 'ft', 15% and 6% respectively. The 'ft' data is incorrectly labeled 24% of the time, mainly as 'chat', which happens 9% of the time and 'P2P', which happens 7% of the time.\n",
    ">\n",
    "> All of the models find the 'chat', 'browsing' and 'ft' labels hardest to predict, however the No VPN dataset does this the best with a error percentage of 11%, compared with 30% for the all data and 37% for the VPN data.\n",
    ">\n",
    "> The No VPM data is the best, highlighted by an accuracy of 93% and a loss of  0.2. This dataset makes the fewest errors.\n",
    ">\n",
    "> All data is the second best dataset on using this model with an accuracy only slightly lower, at 0.88. However this models experiences greater loss, at 0.35.\n",
    ">\n",
    "> The VPN dataset is the worst of the three, while the accuracy is only slightly lower than the model working with All the data,  its loss is a big increase on the NO VPM data and a small increase on the NO NPM dataset.\n",
    ">\n",
    "> As a result, this model best performs on the NO VPM dataset."
   ]
  },
  {
   "cell_type": "code",
   "execution_count": null,
   "id": "b1639f2b-400c-4cc8-a00a-3c026388ff14",
   "metadata": {
    "editable": true,
    "slideshow": {
     "slide_type": ""
    },
    "tags": []
   },
   "outputs": [],
   "source": []
  }
 ],
 "metadata": {
  "kernelspec": {
   "display_name": "Python 3 (ipykernel)",
   "language": "python",
   "name": "python3"
  },
  "language_info": {
   "codemirror_mode": {
    "name": "ipython",
    "version": 3
   },
   "file_extension": ".py",
   "mimetype": "text/x-python",
   "name": "python",
   "nbconvert_exporter": "python",
   "pygments_lexer": "ipython3",
   "version": "3.11.0rc1"
  }
 },
 "nbformat": 4,
 "nbformat_minor": 5
}
